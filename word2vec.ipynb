{
 "cells": [
  {
   "cell_type": "code",
   "execution_count": 84,
   "metadata": {},
   "outputs": [],
   "source": [
    "import numpy as np\n",
    "import matplotlib.pyplot as plt\n",
    "from keras.utils import np_utils\n",
    "from keras.preprocessing.text import Tokenizer\n",
    "\n",
    "window = 1\n",
    "N = 2\n",
    "n_epochs = 600\n",
    "corpus = [\"My name is Mohammad Amin, and I love NLP.\"]\n",
    "eta = 0.1"
   ]
  },
  {
   "cell_type": "markdown",
   "metadata": {},
   "source": [
    "First we need to tokenize the corpus and initialize some weights."
   ]
  },
  {
   "cell_type": "code",
   "execution_count": 85,
   "metadata": {},
   "outputs": [],
   "source": [
    "def tokenize(corpus):\n",
    "    tokenizer = Tokenizer()\n",
    "    tokenizer.fit_on_texts(corpus)\n",
    "    corpus_tokenized = tokenizer.texts_to_sequences(corpus)\n",
    "    V = len(tokenizer.word_index)\n",
    "    return corpus_tokenized, V\n",
    "\n",
    "def initialize(V, N):\n",
    "    np.random.seed(100)\n",
    "    W1 = np.random.rand(V, N)\n",
    "    W2 = np.random.rand(N, V)\n",
    "\n",
    "    return W1, W2\n",
    "\n",
    "corpus_tokenized, V = tokenize(corpus)\n"
   ]
  },
  {
   "cell_type": "markdown",
   "metadata": {},
   "source": [
    "Here we try to convert the corpus into the pairs of center and context."
   ]
  },
  {
   "cell_type": "code",
   "execution_count": 86,
   "metadata": {},
   "outputs": [],
   "source": [
    "def corpus_to_cc(corpus_tokenized, V, window):\n",
    "    for words in corpus_tokenized:\n",
    "        L = len(words)\n",
    "        for index, word in enumerate(words):\n",
    "            contexts = []\n",
    "            center = []\n",
    "            s = index - window\n",
    "            e = index + window + 1\n",
    "            contexts = contexts + [words[i]-1 for i in range(s, e) if 0 <= i < L and i != index]\n",
    "            center.append(word-1)\n",
    "            # x has shape c x V where c is size of contexts\n",
    "            x = np_utils.to_categorical(contexts, V)\n",
    "            # y has shape k x V where k is number of center words\n",
    "            y = np_utils.to_categorical(center, V)\n",
    "            yield (x, y)\n",
    "\n",
    "\n",
    "    "
   ]
  },
  {
   "cell_type": "markdown",
   "metadata": {},
   "source": [
    "We try to calculate softmax based on the formula."
   ]
  },
  {
   "cell_type": "code",
   "execution_count": 87,
   "metadata": {},
   "outputs": [],
   "source": [
    "def softmax(x):\n",
    "    e_x = np.exp(x - np.max(x))\n",
    "    return e_x / e_x.sum(axis=0)"
   ]
  },
  {
   "cell_type": "code",
   "execution_count": 88,
   "metadata": {},
   "outputs": [
    {
     "data": {
      "image/png": "[encoded data removed]",
      "text/plain": [
       "<Figure size 432x288 with 1 Axes>"
      ]
     },
     "metadata": {
      "needs_background": "light"
     },
     "output_type": "display_data"
    }
   ],
   "source": [
    "def cbow(context, label, W1, W2, loss):\n",
    "        # context: all the context words (these represent the inputs)\n",
    "        # label: the center word (this represents the label)\n",
    "        # W1: weights from the input to the hidden layer\n",
    "        # W2: weights from the hidden to the output layer\n",
    "        # loss: float that represents the current value of the loss function\n",
    "\n",
    "        # context is 'x' from tokenizer, it is a c x V matrix\n",
    "        # label is 'y' from tokenizer, it is a 1 x V matrix\n",
    "        \n",
    "        x = np.matrix(np.mean(context, axis=0))\n",
    "        \n",
    "        # x is a 1 x V matrix\n",
    "        # W1 is a V x N matrix\n",
    "        # h is a N x 1 matrix\n",
    "        h = np.matmul(W1.T, x.T)\n",
    "        \n",
    "        # u is a V x 1 matrix\n",
    "        u = np.matmul(W2.T, h)\n",
    "        \n",
    "        # W2 is an N x V matrix\n",
    "        # y_pred is a V x 1 matrix\n",
    "        y_pred = softmax(u)\n",
    "        # e is a V x 1 matrix\n",
    "        e = -label.T + y_pred\n",
    "        # h is N x 1 and e is V x 1 so dW2 is N x V\n",
    "        dW2 = np.outer(h, e)\n",
    "        # x.T is a V x 1 matrix, W2e is a Nx1 so dW1 this is V x N\n",
    "        dW1 = np.outer(x.T, np.matmul(W2, e))\n",
    "\n",
    "        new_W1 = W1 - eta * dW1\n",
    "        new_W2 = W2 - eta * dW2\n",
    "\n",
    "        # label is a 1xV matrix so label.T is a Vx1 matrix\n",
    "        loss += -float(u[label.T == 1]) + np.log(np.sum(np.exp(u)))\n",
    "\n",
    "        return new_W1, new_W2, loss\n",
    "\n",
    "W1, W2 = initialize(V, N)\n",
    "loss_vs_epoch = []\n",
    "for e in range(n_epochs):\n",
    "    loss = 0.\n",
    "    for context, center in corpus_to_cc(corpus_tokenized, V, window):\n",
    "        W1, W2, loss = cbow(context, center, W1, W2, loss)\n",
    "    loss_vs_epoch.append(loss)\n",
    "plt.plot(loss_vs_epoch)\n",
    "plt.show()"
   ]
  },
  {
   "cell_type": "code",
   "execution_count": 89,
   "metadata": {},
   "outputs": [
    {
     "data": {
      "image/png": "[encoded data removed]",
      "text/plain": [
       "<Figure size 432x288 with 1 Axes>"
      ]
     },
     "metadata": {
      "needs_background": "light"
     },
     "output_type": "display_data"
    }
   ],
   "source": [
    "def skipgram(context, x, W1, W2, loss):\n",
    "        # context: all the context words (these represent the labels)\n",
    "        # x: the center word (this represents the input)\n",
    "        # W1: weights from the input to the hidden layer\n",
    "        # W2: weights from the hidden to the output layer\n",
    "        # loss: float that represents the current value of the loss function\n",
    "\n",
    "        # context is \"x\" from tokenizer, it is a c x V matrix\n",
    "        # \"x\" is \"y\" from tokenizer, it is a 1 x V matrix\n",
    "        # W1 has dimension V x N\n",
    "        # x has dimension V x 1\n",
    "        h = np.matmul(W1.T, x.T)\n",
    "        # h has dimension N x 1\n",
    "        # W2 has dimension N x V\n",
    "        # u has dimension V x 1\n",
    "        u = np.dot(W2.T, h)\n",
    "        # y_pred has dimension V x 1\n",
    "        y_pred = softmax(u)\n",
    "\n",
    "        # context is a c by V matrix\n",
    "        # e is a V x c matrix\n",
    "        e = np.outer(y_pred,np.array([1]*context.shape[0]))-context.T\n",
    "\n",
    "        # h is an N x 1 Vector\n",
    "        # dW2 is a N x V matrix\n",
    "        dW2 = np.outer(h, np.sum(e, axis=1))\n",
    "        # x is a V x 1 matrix\n",
    "        # dW1 is an V x N matrix\n",
    "        dW1 = np.outer(x, np.dot(W2, np.sum(e, axis=1)))\n",
    "\n",
    "        new_W1 = W1 - eta * dW1\n",
    "        new_W2 = W2 - eta * dW2\n",
    "\n",
    "        loss += - np.sum([u[label.T == 1] for label in context]) + len(context) * np.log(np.sum(np.exp(u)))\n",
    "\n",
    "        return new_W1, new_W2, loss\n",
    "\n",
    "W1, W2 = initialize(V, N)\n",
    "loss_vs_epoch = []\n",
    "for e in range(n_epochs):\n",
    "    loss = 0.\n",
    "    for context, center in corpus_to_cc(corpus_tokenized, V, window):\n",
    "        W1, W2, loss = skipgram(context, center, W1, W2, loss)\n",
    "    loss_vs_epoch.append(loss)\n",
    "plt.plot(loss_vs_epoch)\n",
    "plt.show()"
   ]
  },
  {
   "cell_type": "markdown",
   "metadata": {},
   "source": [
    "With the help of some Github repositories and a few tutorials, I could implement cbow and skip-gram and show the loss over epochs. I learned a few things about negative sampling and hierarchical softmax, which I mention below.\n",
    "### Negative Sampling:\n",
    "- Our positive samples are within the window, and we randomly choose a few negative samples out of the window to train the model. This way, we ignore training on all corpus in each epoch and will not lose considerable precision. However, we reduce the training cost so much.\n",
    "### Hierarchical Sampling: \n",
    "- We make a Huffman tree in which we have each word in the leaves. Each of the words can be reached by a path from the root through the inner nodes, which represent probability mass along that way. In this way, we achieve the O(log(V)) and have a reasonable estimation of the softmax function. Actually, the simple softmax is a tree of depth 1.\n",
    "\n",
    "#### Implementing Negative Sampling would not be that hard, but hierarchical softmax requires more reading.\n",
    "\n"
   ]
  }
 ],
 "metadata": {
  "interpreter": {
   "hash": "d5183a3cb1737ca8c972effe32816b5ccb4f3904badb9e39b73af93edc4ce9c7"
  },
  "kernelspec": {
   "display_name": "Python 3.9.7 ('base')",
   "language": "python",
   "name": "python3"
  },
  "language_info": {
   "codemirror_mode": {
    "name": "ipython",
    "version": 3
   },
   "file_extension": ".py",
   "mimetype": "text/x-python",
   "name": "python",
   "nbconvert_exporter": "python",
   "pygments_lexer": "ipython3",
   "version": "3.9.7"
  },
  "orig_nbformat": 4
 },
 "nbformat": 4,
 "nbformat_minor": 2
}
